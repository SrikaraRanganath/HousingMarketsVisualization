{
 "cells": [
  {
   "cell_type": "markdown",
   "metadata": {
    "id": "i099Jf6_Dmuu"
   },
   "source": [
    "#               **Housing Markets - A Comprehensive Study**\n",
    "\n",
    "The Housing Market(s) refers to the supply and demand of houses including mortgage market and house prices.This project will answer many essential questions on the housing prices ,mortage ,interest rates,speculative demand ,supply of housing, affordability and economic growth.The stake-holders will get a valuable cognizance of the housing prices utilizing the plots and graphs presented in this project.\n",
    "\n",
    "---"
   ]
  },
  {
   "cell_type": "markdown",
   "metadata": {
    "id": "1aNyprcpnK2o"
   },
   "source": [
    "# **Installing Dependencies**\n",
    "Importing all requisite libraries.\n",
    "\n",
    "\n",
    "\n",
    "\n",
    "\n"
   ]
  },
  {
   "cell_type": "code",
   "execution_count": 1,
   "metadata": {
    "id": "6uFq06W6DwlW"
   },
   "outputs": [],
   "source": [
    "!pip install jovian --upgrade --quiet"
   ]
  },
  {
   "cell_type": "code",
   "execution_count": 2,
   "metadata": {
    "id": "e2gfClVnnk5K"
   },
   "outputs": [],
   "source": [
    "import jovian\n",
    "import pandas as pd\n",
    "import numpy as np\n",
    "import seaborn as sns\n",
    "import matplotlib.pyplot as plt\n",
    "import matplotlib\n",
    "%matplotlib inline\n"
   ]
  },
  {
   "cell_type": "markdown",
   "metadata": {
    "id": "sQOLofMGn0sK"
   },
   "source": [
    "# **Importing the dataset**\n",
    "The dataset is taken from [kaggle.com](https://www.kaggle.com/dansbecker/melbourne-housing-snapshot).This contains data about Real-estate being sold in Melborune. "
   ]
  },
  {
   "cell_type": "code",
   "execution_count": 3,
   "metadata": {
    "id": "h_9vvAwfovan"
   },
   "outputs": [],
   "source": [
    "!pip install jovian opendatasets --upgrade --quiet\n"
   ]
  },
  {
   "cell_type": "code",
   "execution_count": 4,
   "metadata": {
    "id": "EaqpFyKysuHx"
   },
   "outputs": [],
   "source": [
    "dataset_url = \"https://www.kaggle.com/dansbecker/melbourne-housing-snapshot\""
   ]
  },
  {
   "cell_type": "code",
   "execution_count": 5,
   "metadata": {
    "colab": {
     "base_uri": "https://localhost:8080/"
    },
    "id": "nXWO30FhpMY4",
    "outputId": "64a2aac6-3f6e-4bd4-bd04-22dd2854a61f"
   },
   "outputs": [
    {
     "name": "stdout",
     "output_type": "stream",
     "text": [
      "Please provide your Kaggle credentials to download this dataset. Learn more: http://bit.ly/kaggle-creds\n",
      "Your Kaggle username: srikararanganath\n",
      "Your Kaggle Key: ··········\n"
     ]
    },
    {
     "name": "stderr",
     "output_type": "stream",
     "text": [
      "100%|██████████| 451k/451k [00:00<00:00, 44.8MB/s]"
     ]
    },
    {
     "name": "stdout",
     "output_type": "stream",
     "text": [
      "Downloading melbourne-housing-snapshot.zip to ./melbourne-housing-snapshot\n",
      "\n"
     ]
    },
    {
     "name": "stderr",
     "output_type": "stream",
     "text": [
      "\n"
     ]
    }
   ],
   "source": [
    "import opendatasets as od\n",
    "od.download(dataset_url)"
   ]
  },
  {
   "cell_type": "markdown",
   "metadata": {
    "id": "8mz2BP53uez5"
   },
   "source": [
    "The Data Set has been Downloaded from Kaggle.\n"
   ]
  },
  {
   "cell_type": "code",
   "execution_count": 6,
   "metadata": {
    "id": "jnjN_MlEsb6R"
   },
   "outputs": [],
   "source": [
    "data_dir = \"./melbourne-housing-snapshot\""
   ]
  },
  {
   "cell_type": "code",
   "execution_count": 7,
   "metadata": {
    "colab": {
     "base_uri": "https://localhost:8080/"
    },
    "id": "F5NuhG0huLpR",
    "outputId": "8f8abd95-6b97-4b08-fffe-8378d6cdf595"
   },
   "outputs": [
    {
     "data": {
      "text/plain": [
       "['melb_data.csv']"
      ]
     },
     "execution_count": 7,
     "metadata": {
      "tags": []
     },
     "output_type": "execute_result"
    }
   ],
   "source": [
    "import os \n",
    "os.listdir(data_dir)"
   ]
  },
  {
   "cell_type": "markdown",
   "metadata": {
    "id": "a0N0C5YJu8Uc"
   },
   "source": [
    "Imported the dataset into the notebook"
   ]
  },
  {
   "cell_type": "markdown",
   "metadata": {
    "id": "450FPsE1wl2C"
   },
   "source": [
    "# **Data Preparation and Cleaning**\n",
    "Creating a data-frame 'housing_df' using pandas."
   ]
  },
  {
   "cell_type": "code",
   "execution_count": 8,
   "metadata": {
    "id": "sR5KIr-4uTnT"
   },
   "outputs": [],
   "source": [
    "housing_df = pd.read_csv(\"./melbourne-housing-snapshot/melb_data.csv\")"
   ]
  },
  {
   "cell_type": "code",
   "execution_count": 9,
   "metadata": {
    "colab": {
     "base_uri": "https://localhost:8080/",
     "height": 670
    },
    "id": "RZBp8IzoxHaf",
    "outputId": "e35f810f-3118-41ce-955f-ad79b9ee810c"
   },
   "outputs": [
    {
     "data": {
      "text/html": [
       "<div>\n",
       "<style scoped>\n",
       "    .dataframe tbody tr th:only-of-type {\n",
       "        vertical-align: middle;\n",
       "    }\n",
       "\n",
       "    .dataframe tbody tr th {\n",
       "        vertical-align: top;\n",
       "    }\n",
       "\n",
       "    .dataframe thead th {\n",
       "        text-align: right;\n",
       "    }\n",
       "</style>\n",
       "<table border=\"1\" class=\"dataframe\">\n",
       "  <thead>\n",
       "    <tr style=\"text-align: right;\">\n",
       "      <th></th>\n",
       "      <th>Suburb</th>\n",
       "      <th>Address</th>\n",
       "      <th>Rooms</th>\n",
       "      <th>Type</th>\n",
       "      <th>Price</th>\n",
       "      <th>Method</th>\n",
       "      <th>SellerG</th>\n",
       "      <th>Date</th>\n",
       "      <th>Distance</th>\n",
       "      <th>Postcode</th>\n",
       "      <th>Bedroom2</th>\n",
       "      <th>Bathroom</th>\n",
       "      <th>Car</th>\n",
       "      <th>Landsize</th>\n",
       "      <th>BuildingArea</th>\n",
       "      <th>YearBuilt</th>\n",
       "      <th>CouncilArea</th>\n",
       "      <th>Lattitude</th>\n",
       "      <th>Longtitude</th>\n",
       "      <th>Regionname</th>\n",
       "      <th>Propertycount</th>\n",
       "    </tr>\n",
       "  </thead>\n",
       "  <tbody>\n",
       "    <tr>\n",
       "      <th>0</th>\n",
       "      <td>Abbotsford</td>\n",
       "      <td>85 Turner St</td>\n",
       "      <td>2</td>\n",
       "      <td>h</td>\n",
       "      <td>1480000.0</td>\n",
       "      <td>S</td>\n",
       "      <td>Biggin</td>\n",
       "      <td>3/12/2016</td>\n",
       "      <td>2.5</td>\n",
       "      <td>3067.0</td>\n",
       "      <td>2.0</td>\n",
       "      <td>1.0</td>\n",
       "      <td>1.0</td>\n",
       "      <td>202.0</td>\n",
       "      <td>NaN</td>\n",
       "      <td>NaN</td>\n",
       "      <td>Yarra</td>\n",
       "      <td>-37.79960</td>\n",
       "      <td>144.99840</td>\n",
       "      <td>Northern Metropolitan</td>\n",
       "      <td>4019.0</td>\n",
       "    </tr>\n",
       "    <tr>\n",
       "      <th>1</th>\n",
       "      <td>Abbotsford</td>\n",
       "      <td>25 Bloomburg St</td>\n",
       "      <td>2</td>\n",
       "      <td>h</td>\n",
       "      <td>1035000.0</td>\n",
       "      <td>S</td>\n",
       "      <td>Biggin</td>\n",
       "      <td>4/02/2016</td>\n",
       "      <td>2.5</td>\n",
       "      <td>3067.0</td>\n",
       "      <td>2.0</td>\n",
       "      <td>1.0</td>\n",
       "      <td>0.0</td>\n",
       "      <td>156.0</td>\n",
       "      <td>79.0</td>\n",
       "      <td>1900.0</td>\n",
       "      <td>Yarra</td>\n",
       "      <td>-37.80790</td>\n",
       "      <td>144.99340</td>\n",
       "      <td>Northern Metropolitan</td>\n",
       "      <td>4019.0</td>\n",
       "    </tr>\n",
       "    <tr>\n",
       "      <th>2</th>\n",
       "      <td>Abbotsford</td>\n",
       "      <td>5 Charles St</td>\n",
       "      <td>3</td>\n",
       "      <td>h</td>\n",
       "      <td>1465000.0</td>\n",
       "      <td>SP</td>\n",
       "      <td>Biggin</td>\n",
       "      <td>4/03/2017</td>\n",
       "      <td>2.5</td>\n",
       "      <td>3067.0</td>\n",
       "      <td>3.0</td>\n",
       "      <td>2.0</td>\n",
       "      <td>0.0</td>\n",
       "      <td>134.0</td>\n",
       "      <td>150.0</td>\n",
       "      <td>1900.0</td>\n",
       "      <td>Yarra</td>\n",
       "      <td>-37.80930</td>\n",
       "      <td>144.99440</td>\n",
       "      <td>Northern Metropolitan</td>\n",
       "      <td>4019.0</td>\n",
       "    </tr>\n",
       "    <tr>\n",
       "      <th>3</th>\n",
       "      <td>Abbotsford</td>\n",
       "      <td>40 Federation La</td>\n",
       "      <td>3</td>\n",
       "      <td>h</td>\n",
       "      <td>850000.0</td>\n",
       "      <td>PI</td>\n",
       "      <td>Biggin</td>\n",
       "      <td>4/03/2017</td>\n",
       "      <td>2.5</td>\n",
       "      <td>3067.0</td>\n",
       "      <td>3.0</td>\n",
       "      <td>2.0</td>\n",
       "      <td>1.0</td>\n",
       "      <td>94.0</td>\n",
       "      <td>NaN</td>\n",
       "      <td>NaN</td>\n",
       "      <td>Yarra</td>\n",
       "      <td>-37.79690</td>\n",
       "      <td>144.99690</td>\n",
       "      <td>Northern Metropolitan</td>\n",
       "      <td>4019.0</td>\n",
       "    </tr>\n",
       "    <tr>\n",
       "      <th>4</th>\n",
       "      <td>Abbotsford</td>\n",
       "      <td>55a Park St</td>\n",
       "      <td>4</td>\n",
       "      <td>h</td>\n",
       "      <td>1600000.0</td>\n",
       "      <td>VB</td>\n",
       "      <td>Nelson</td>\n",
       "      <td>4/06/2016</td>\n",
       "      <td>2.5</td>\n",
       "      <td>3067.0</td>\n",
       "      <td>3.0</td>\n",
       "      <td>1.0</td>\n",
       "      <td>2.0</td>\n",
       "      <td>120.0</td>\n",
       "      <td>142.0</td>\n",
       "      <td>2014.0</td>\n",
       "      <td>Yarra</td>\n",
       "      <td>-37.80720</td>\n",
       "      <td>144.99410</td>\n",
       "      <td>Northern Metropolitan</td>\n",
       "      <td>4019.0</td>\n",
       "    </tr>\n",
       "    <tr>\n",
       "      <th>...</th>\n",
       "      <td>...</td>\n",
       "      <td>...</td>\n",
       "      <td>...</td>\n",
       "      <td>...</td>\n",
       "      <td>...</td>\n",
       "      <td>...</td>\n",
       "      <td>...</td>\n",
       "      <td>...</td>\n",
       "      <td>...</td>\n",
       "      <td>...</td>\n",
       "      <td>...</td>\n",
       "      <td>...</td>\n",
       "      <td>...</td>\n",
       "      <td>...</td>\n",
       "      <td>...</td>\n",
       "      <td>...</td>\n",
       "      <td>...</td>\n",
       "      <td>...</td>\n",
       "      <td>...</td>\n",
       "      <td>...</td>\n",
       "      <td>...</td>\n",
       "    </tr>\n",
       "    <tr>\n",
       "      <th>13575</th>\n",
       "      <td>Wheelers Hill</td>\n",
       "      <td>12 Strada Cr</td>\n",
       "      <td>4</td>\n",
       "      <td>h</td>\n",
       "      <td>1245000.0</td>\n",
       "      <td>S</td>\n",
       "      <td>Barry</td>\n",
       "      <td>26/08/2017</td>\n",
       "      <td>16.7</td>\n",
       "      <td>3150.0</td>\n",
       "      <td>4.0</td>\n",
       "      <td>2.0</td>\n",
       "      <td>2.0</td>\n",
       "      <td>652.0</td>\n",
       "      <td>NaN</td>\n",
       "      <td>1981.0</td>\n",
       "      <td>NaN</td>\n",
       "      <td>-37.90562</td>\n",
       "      <td>145.16761</td>\n",
       "      <td>South-Eastern Metropolitan</td>\n",
       "      <td>7392.0</td>\n",
       "    </tr>\n",
       "    <tr>\n",
       "      <th>13576</th>\n",
       "      <td>Williamstown</td>\n",
       "      <td>77 Merrett Dr</td>\n",
       "      <td>3</td>\n",
       "      <td>h</td>\n",
       "      <td>1031000.0</td>\n",
       "      <td>SP</td>\n",
       "      <td>Williams</td>\n",
       "      <td>26/08/2017</td>\n",
       "      <td>6.8</td>\n",
       "      <td>3016.0</td>\n",
       "      <td>3.0</td>\n",
       "      <td>2.0</td>\n",
       "      <td>2.0</td>\n",
       "      <td>333.0</td>\n",
       "      <td>133.0</td>\n",
       "      <td>1995.0</td>\n",
       "      <td>NaN</td>\n",
       "      <td>-37.85927</td>\n",
       "      <td>144.87904</td>\n",
       "      <td>Western Metropolitan</td>\n",
       "      <td>6380.0</td>\n",
       "    </tr>\n",
       "    <tr>\n",
       "      <th>13577</th>\n",
       "      <td>Williamstown</td>\n",
       "      <td>83 Power St</td>\n",
       "      <td>3</td>\n",
       "      <td>h</td>\n",
       "      <td>1170000.0</td>\n",
       "      <td>S</td>\n",
       "      <td>Raine</td>\n",
       "      <td>26/08/2017</td>\n",
       "      <td>6.8</td>\n",
       "      <td>3016.0</td>\n",
       "      <td>3.0</td>\n",
       "      <td>2.0</td>\n",
       "      <td>4.0</td>\n",
       "      <td>436.0</td>\n",
       "      <td>NaN</td>\n",
       "      <td>1997.0</td>\n",
       "      <td>NaN</td>\n",
       "      <td>-37.85274</td>\n",
       "      <td>144.88738</td>\n",
       "      <td>Western Metropolitan</td>\n",
       "      <td>6380.0</td>\n",
       "    </tr>\n",
       "    <tr>\n",
       "      <th>13578</th>\n",
       "      <td>Williamstown</td>\n",
       "      <td>96 Verdon St</td>\n",
       "      <td>4</td>\n",
       "      <td>h</td>\n",
       "      <td>2500000.0</td>\n",
       "      <td>PI</td>\n",
       "      <td>Sweeney</td>\n",
       "      <td>26/08/2017</td>\n",
       "      <td>6.8</td>\n",
       "      <td>3016.0</td>\n",
       "      <td>4.0</td>\n",
       "      <td>1.0</td>\n",
       "      <td>5.0</td>\n",
       "      <td>866.0</td>\n",
       "      <td>157.0</td>\n",
       "      <td>1920.0</td>\n",
       "      <td>NaN</td>\n",
       "      <td>-37.85908</td>\n",
       "      <td>144.89299</td>\n",
       "      <td>Western Metropolitan</td>\n",
       "      <td>6380.0</td>\n",
       "    </tr>\n",
       "    <tr>\n",
       "      <th>13579</th>\n",
       "      <td>Yarraville</td>\n",
       "      <td>6 Agnes St</td>\n",
       "      <td>4</td>\n",
       "      <td>h</td>\n",
       "      <td>1285000.0</td>\n",
       "      <td>SP</td>\n",
       "      <td>Village</td>\n",
       "      <td>26/08/2017</td>\n",
       "      <td>6.3</td>\n",
       "      <td>3013.0</td>\n",
       "      <td>4.0</td>\n",
       "      <td>1.0</td>\n",
       "      <td>1.0</td>\n",
       "      <td>362.0</td>\n",
       "      <td>112.0</td>\n",
       "      <td>1920.0</td>\n",
       "      <td>NaN</td>\n",
       "      <td>-37.81188</td>\n",
       "      <td>144.88449</td>\n",
       "      <td>Western Metropolitan</td>\n",
       "      <td>6543.0</td>\n",
       "    </tr>\n",
       "  </tbody>\n",
       "</table>\n",
       "<p>13580 rows × 21 columns</p>\n",
       "</div>"
      ],
      "text/plain": [
       "              Suburb  ... Propertycount\n",
       "0         Abbotsford  ...        4019.0\n",
       "1         Abbotsford  ...        4019.0\n",
       "2         Abbotsford  ...        4019.0\n",
       "3         Abbotsford  ...        4019.0\n",
       "4         Abbotsford  ...        4019.0\n",
       "...              ...  ...           ...\n",
       "13575  Wheelers Hill  ...        7392.0\n",
       "13576   Williamstown  ...        6380.0\n",
       "13577   Williamstown  ...        6380.0\n",
       "13578   Williamstown  ...        6380.0\n",
       "13579     Yarraville  ...        6543.0\n",
       "\n",
       "[13580 rows x 21 columns]"
      ]
     },
     "execution_count": 9,
     "metadata": {
      "tags": []
     },
     "output_type": "execute_result"
    }
   ],
   "source": [
    "housing_df"
   ]
  },
  {
   "cell_type": "code",
   "execution_count": 10,
   "metadata": {
    "colab": {
     "base_uri": "https://localhost:8080/"
    },
    "id": "gB2jIIgh5G43",
    "outputId": "9926d37d-0e31-4f6c-e17a-3a73388358cb"
   },
   "outputs": [
    {
     "data": {
      "text/plain": [
       "(13580, 21)"
      ]
     },
     "execution_count": 10,
     "metadata": {
      "tags": []
     },
     "output_type": "execute_result"
    }
   ],
   "source": [
    "housing_df.shape"
   ]
  },
  {
   "cell_type": "markdown",
   "metadata": {
    "id": "ewHrGLsw2ZS4"
   },
   "source": [
    "We have 13580 rows of housing data.Lets list all the series elements to get some insight about the data were working with."
   ]
  },
  {
   "cell_type": "code",
   "execution_count": 11,
   "metadata": {
    "colab": {
     "base_uri": "https://localhost:8080/"
    },
    "id": "pSyd3jCf2GyV",
    "outputId": "f9875153-b199-4ea1-a390-8d6943cb6afb"
   },
   "outputs": [
    {
     "data": {
      "text/plain": [
       "Index(['Suburb', 'Address', 'Rooms', 'Type', 'Price', 'Method', 'SellerG',\n",
       "       'Date', 'Distance', 'Postcode', 'Bedroom2', 'Bathroom', 'Car',\n",
       "       'Landsize', 'BuildingArea', 'YearBuilt', 'CouncilArea', 'Lattitude',\n",
       "       'Longtitude', 'Regionname', 'Propertycount'],\n",
       "      dtype='object')"
      ]
     },
     "execution_count": 11,
     "metadata": {
      "tags": []
     },
     "output_type": "execute_result"
    }
   ],
   "source": [
    "housing_df.columns"
   ]
  },
  {
   "cell_type": "markdown",
   "metadata": {
    "id": "jyd_mMIc3v7g"
   },
   "source": [
    "Employing a bunch of functions to analyze data in the dataFrame.\n",
    "\n",
    "\n",
    "\n",
    "\n",
    "\n",
    "\n",
    "\n",
    "\n",
    "\n",
    "\n"
   ]
  },
  {
   "cell_type": "code",
   "execution_count": 12,
   "metadata": {
    "colab": {
     "base_uri": "https://localhost:8080/",
     "height": 320
    },
    "id": "aeTa4plD2-1w",
    "outputId": "2e18f2e3-c742-460f-b19c-0f69d8bc3f26"
   },
   "outputs": [
    {
     "data": {
      "text/html": [
       "<div>\n",
       "<style scoped>\n",
       "    .dataframe tbody tr th:only-of-type {\n",
       "        vertical-align: middle;\n",
       "    }\n",
       "\n",
       "    .dataframe tbody tr th {\n",
       "        vertical-align: top;\n",
       "    }\n",
       "\n",
       "    .dataframe thead th {\n",
       "        text-align: right;\n",
       "    }\n",
       "</style>\n",
       "<table border=\"1\" class=\"dataframe\">\n",
       "  <thead>\n",
       "    <tr style=\"text-align: right;\">\n",
       "      <th></th>\n",
       "      <th>Rooms</th>\n",
       "      <th>Price</th>\n",
       "      <th>Distance</th>\n",
       "      <th>Postcode</th>\n",
       "      <th>Bedroom2</th>\n",
       "      <th>Bathroom</th>\n",
       "      <th>Car</th>\n",
       "      <th>Landsize</th>\n",
       "      <th>BuildingArea</th>\n",
       "      <th>YearBuilt</th>\n",
       "      <th>Lattitude</th>\n",
       "      <th>Longtitude</th>\n",
       "      <th>Propertycount</th>\n",
       "    </tr>\n",
       "  </thead>\n",
       "  <tbody>\n",
       "    <tr>\n",
       "      <th>count</th>\n",
       "      <td>13580.000000</td>\n",
       "      <td>1.358000e+04</td>\n",
       "      <td>13580.000000</td>\n",
       "      <td>13580.000000</td>\n",
       "      <td>13580.000000</td>\n",
       "      <td>13580.000000</td>\n",
       "      <td>13518.000000</td>\n",
       "      <td>13580.000000</td>\n",
       "      <td>7130.000000</td>\n",
       "      <td>8205.000000</td>\n",
       "      <td>13580.000000</td>\n",
       "      <td>13580.000000</td>\n",
       "      <td>13580.000000</td>\n",
       "    </tr>\n",
       "    <tr>\n",
       "      <th>mean</th>\n",
       "      <td>2.937997</td>\n",
       "      <td>1.075684e+06</td>\n",
       "      <td>10.137776</td>\n",
       "      <td>3105.301915</td>\n",
       "      <td>2.914728</td>\n",
       "      <td>1.534242</td>\n",
       "      <td>1.610075</td>\n",
       "      <td>558.416127</td>\n",
       "      <td>151.967650</td>\n",
       "      <td>1964.684217</td>\n",
       "      <td>-37.809203</td>\n",
       "      <td>144.995216</td>\n",
       "      <td>7454.417378</td>\n",
       "    </tr>\n",
       "    <tr>\n",
       "      <th>std</th>\n",
       "      <td>0.955748</td>\n",
       "      <td>6.393107e+05</td>\n",
       "      <td>5.868725</td>\n",
       "      <td>90.676964</td>\n",
       "      <td>0.965921</td>\n",
       "      <td>0.691712</td>\n",
       "      <td>0.962634</td>\n",
       "      <td>3990.669241</td>\n",
       "      <td>541.014538</td>\n",
       "      <td>37.273762</td>\n",
       "      <td>0.079260</td>\n",
       "      <td>0.103916</td>\n",
       "      <td>4378.581772</td>\n",
       "    </tr>\n",
       "    <tr>\n",
       "      <th>min</th>\n",
       "      <td>1.000000</td>\n",
       "      <td>8.500000e+04</td>\n",
       "      <td>0.000000</td>\n",
       "      <td>3000.000000</td>\n",
       "      <td>0.000000</td>\n",
       "      <td>0.000000</td>\n",
       "      <td>0.000000</td>\n",
       "      <td>0.000000</td>\n",
       "      <td>0.000000</td>\n",
       "      <td>1196.000000</td>\n",
       "      <td>-38.182550</td>\n",
       "      <td>144.431810</td>\n",
       "      <td>249.000000</td>\n",
       "    </tr>\n",
       "    <tr>\n",
       "      <th>25%</th>\n",
       "      <td>2.000000</td>\n",
       "      <td>6.500000e+05</td>\n",
       "      <td>6.100000</td>\n",
       "      <td>3044.000000</td>\n",
       "      <td>2.000000</td>\n",
       "      <td>1.000000</td>\n",
       "      <td>1.000000</td>\n",
       "      <td>177.000000</td>\n",
       "      <td>93.000000</td>\n",
       "      <td>1940.000000</td>\n",
       "      <td>-37.856822</td>\n",
       "      <td>144.929600</td>\n",
       "      <td>4380.000000</td>\n",
       "    </tr>\n",
       "    <tr>\n",
       "      <th>50%</th>\n",
       "      <td>3.000000</td>\n",
       "      <td>9.030000e+05</td>\n",
       "      <td>9.200000</td>\n",
       "      <td>3084.000000</td>\n",
       "      <td>3.000000</td>\n",
       "      <td>1.000000</td>\n",
       "      <td>2.000000</td>\n",
       "      <td>440.000000</td>\n",
       "      <td>126.000000</td>\n",
       "      <td>1970.000000</td>\n",
       "      <td>-37.802355</td>\n",
       "      <td>145.000100</td>\n",
       "      <td>6555.000000</td>\n",
       "    </tr>\n",
       "    <tr>\n",
       "      <th>75%</th>\n",
       "      <td>3.000000</td>\n",
       "      <td>1.330000e+06</td>\n",
       "      <td>13.000000</td>\n",
       "      <td>3148.000000</td>\n",
       "      <td>3.000000</td>\n",
       "      <td>2.000000</td>\n",
       "      <td>2.000000</td>\n",
       "      <td>651.000000</td>\n",
       "      <td>174.000000</td>\n",
       "      <td>1999.000000</td>\n",
       "      <td>-37.756400</td>\n",
       "      <td>145.058305</td>\n",
       "      <td>10331.000000</td>\n",
       "    </tr>\n",
       "    <tr>\n",
       "      <th>max</th>\n",
       "      <td>10.000000</td>\n",
       "      <td>9.000000e+06</td>\n",
       "      <td>48.100000</td>\n",
       "      <td>3977.000000</td>\n",
       "      <td>20.000000</td>\n",
       "      <td>8.000000</td>\n",
       "      <td>10.000000</td>\n",
       "      <td>433014.000000</td>\n",
       "      <td>44515.000000</td>\n",
       "      <td>2018.000000</td>\n",
       "      <td>-37.408530</td>\n",
       "      <td>145.526350</td>\n",
       "      <td>21650.000000</td>\n",
       "    </tr>\n",
       "  </tbody>\n",
       "</table>\n",
       "</div>"
      ],
      "text/plain": [
       "              Rooms         Price  ...    Longtitude  Propertycount\n",
       "count  13580.000000  1.358000e+04  ...  13580.000000   13580.000000\n",
       "mean       2.937997  1.075684e+06  ...    144.995216    7454.417378\n",
       "std        0.955748  6.393107e+05  ...      0.103916    4378.581772\n",
       "min        1.000000  8.500000e+04  ...    144.431810     249.000000\n",
       "25%        2.000000  6.500000e+05  ...    144.929600    4380.000000\n",
       "50%        3.000000  9.030000e+05  ...    145.000100    6555.000000\n",
       "75%        3.000000  1.330000e+06  ...    145.058305   10331.000000\n",
       "max       10.000000  9.000000e+06  ...    145.526350   21650.000000\n",
       "\n",
       "[8 rows x 13 columns]"
      ]
     },
     "execution_count": 12,
     "metadata": {
      "tags": []
     },
     "output_type": "execute_result"
    }
   ],
   "source": [
    "housing_df.describe()"
   ]
  },
  {
   "cell_type": "markdown",
   "metadata": {
    "id": "UV62XnJ4PzZu"
   },
   "source": [
    "We are going to consider data from the year 1950 we all real-estate sold before 1950 needs to be discarded ."
   ]
  },
  {
   "cell_type": "code",
   "execution_count": 13,
   "metadata": {
    "id": "SUbK4fc7QA4M"
   },
   "outputs": [],
   "source": [
    "housing_df.drop(housing_df[housing_df[\"YearBuilt\"] < 1950].index, inplace=True)"
   ]
  },
  {
   "cell_type": "code",
   "execution_count": 14,
   "metadata": {
    "colab": {
     "base_uri": "https://localhost:8080/"
    },
    "id": "JPJX7D1t45kh",
    "outputId": "8ceeaf67-2d08-4942-fa10-c9417ad0f27c"
   },
   "outputs": [
    {
     "name": "stdout",
     "output_type": "stream",
     "text": [
      "<class 'pandas.core.frame.DataFrame'>\n",
      "Int64Index: 11428 entries, 0 to 13577\n",
      "Data columns (total 21 columns):\n",
      " #   Column         Non-Null Count  Dtype  \n",
      "---  ------         --------------  -----  \n",
      " 0   Suburb         11428 non-null  object \n",
      " 1   Address        11428 non-null  object \n",
      " 2   Rooms          11428 non-null  int64  \n",
      " 3   Type           11428 non-null  object \n",
      " 4   Price          11428 non-null  float64\n",
      " 5   Method         11428 non-null  object \n",
      " 6   SellerG        11428 non-null  object \n",
      " 7   Date           11428 non-null  object \n",
      " 8   Distance       11428 non-null  float64\n",
      " 9   Postcode       11428 non-null  float64\n",
      " 10  Bedroom2       11428 non-null  float64\n",
      " 11  Bathroom       11428 non-null  float64\n",
      " 12  Car            11393 non-null  float64\n",
      " 13  Landsize       11428 non-null  float64\n",
      " 14  BuildingArea   5276 non-null   float64\n",
      " 15  YearBuilt      6053 non-null   float64\n",
      " 16  CouncilArea    10240 non-null  object \n",
      " 17  Lattitude      11428 non-null  float64\n",
      " 18  Longtitude     11428 non-null  float64\n",
      " 19  Regionname     11428 non-null  object \n",
      " 20  Propertycount  11428 non-null  float64\n",
      "dtypes: float64(12), int64(1), object(8)\n",
      "memory usage: 1.9+ MB\n"
     ]
    }
   ],
   "source": [
    "housing_df.info()"
   ]
  },
  {
   "cell_type": "markdown",
   "metadata": {
    "id": "a9MovAACnCYP"
   },
   "source": [
    "**Checking for null values**\n"
   ]
  },
  {
   "cell_type": "code",
   "execution_count": 15,
   "metadata": {
    "colab": {
     "base_uri": "https://localhost:8080/"
    },
    "id": "G7joVfDQAkVB",
    "outputId": "c1728f42-22b0-4b61-e4d3-78b13a4e6182"
   },
   "outputs": [
    {
     "data": {
      "text/plain": [
       "True"
      ]
     },
     "execution_count": 15,
     "metadata": {
      "tags": []
     },
     "output_type": "execute_result"
    }
   ],
   "source": [
    "housing_df.isnull().values.any()"
   ]
  },
  {
   "cell_type": "markdown",
   "metadata": {
    "id": "inCVMfqnrBWB"
   },
   "source": [
    "As we can see the dataframe contains null values.Lets plot a heatmap to visualize the null values."
   ]
  },
  {
   "cell_type": "code",
   "execution_count": 16,
   "metadata": {
    "colab": {
     "base_uri": "https://localhost:8080/",
     "height": 341
    },
    "id": "L1guqe04onVL",
    "outputId": "cd19de36-fac5-4644-c608-6d1686758066"
   },
   "outputs": [
    {
     "data": {
      "image/png": "[encoded data removed]",
      "text/plain": [
       "<Figure size 432x288 with 1 Axes>"
      ]
     },
     "metadata": {
      "needs_background": "light",
      "tags": []
     },
     "output_type": "display_data"
    }
   ],
   "source": [
    "sns.heatmap(housing_df.isnull(), cbar=False)\n",
    "plt.title(\"Heat Map of Null Values\")\n",
    "plt.show()"
   ]
  },
  {
   "cell_type": "code",
   "execution_count": 17,
   "metadata": {
    "colab": {
     "base_uri": "https://localhost:8080/"
    },
    "id": "JUS3qn4ZriLH",
    "outputId": "ecd7094d-2688-477c-8d5f-f1f89ff1288a"
   },
   "outputs": [
    {
     "data": {
      "text/plain": [
       "Suburb              0\n",
       "Address             0\n",
       "Rooms               0\n",
       "Type                0\n",
       "Price               0\n",
       "Method              0\n",
       "SellerG             0\n",
       "Date                0\n",
       "Distance            0\n",
       "Postcode            0\n",
       "Bedroom2            0\n",
       "Bathroom            0\n",
       "Car                35\n",
       "Landsize            0\n",
       "BuildingArea     6152\n",
       "YearBuilt        5375\n",
       "CouncilArea      1188\n",
       "Lattitude           0\n",
       "Longtitude          0\n",
       "Regionname          0\n",
       "Propertycount       0\n",
       "dtype: int64"
      ]
     },
     "execution_count": 17,
     "metadata": {
      "tags": []
     },
     "output_type": "execute_result"
    }
   ],
   "source": [
    "housing_df.isnull().sum()\n"
   ]
  },
  {
   "cell_type": "markdown",
   "metadata": {
    "id": "Ai3zz23hsIft"
   },
   "source": [
    "As we can see 'BuildingArea' has maximum number of null values.'YearBuilt','CouncilArea' and 'Car' have 5375 ,1369 and 62 number of null values respectively.I will delete the rows which contain null values to make the visualization more precise."
   ]
  },
  {
   "cell_type": "code",
   "execution_count": 18,
   "metadata": {
    "id": "Y6oj0uyataV0"
   },
   "outputs": [],
   "source": [
    "housing_df[\"BuildingArea\"].fillna(housing_df[\"BuildingArea\"].mean(),inplace=True)\n",
    "housing_df.dropna(subset=[\"YearBuilt\"],inplace=True)\n",
    "housing_df[\"Car\"].fillna(housing_df[\"Car\"].mean(),inplace=True)\n",
    "housing_df.dropna(subset=[\"CouncilArea\"],inplace=True)"
   ]
  },
  {
   "cell_type": "code",
   "execution_count": 19,
   "metadata": {
    "colab": {
     "base_uri": "https://localhost:8080/"
    },
    "id": "zt-gUwRevIxM",
    "outputId": "97ae28a2-ee0d-4062-bbad-c7e1a0d641af"
   },
   "outputs": [
    {
     "data": {
      "text/plain": [
       "Suburb           0\n",
       "Address          0\n",
       "Rooms            0\n",
       "Type             0\n",
       "Price            0\n",
       "Method           0\n",
       "SellerG          0\n",
       "Date             0\n",
       "Distance         0\n",
       "Postcode         0\n",
       "Bedroom2         0\n",
       "Bathroom         0\n",
       "Car              0\n",
       "Landsize         0\n",
       "BuildingArea     0\n",
       "YearBuilt        0\n",
       "CouncilArea      0\n",
       "Lattitude        0\n",
       "Longtitude       0\n",
       "Regionname       0\n",
       "Propertycount    0\n",
       "dtype: int64"
      ]
     },
     "execution_count": 19,
     "metadata": {
      "tags": []
     },
     "output_type": "execute_result"
    }
   ],
   "source": [
    "housing_df.isnull().sum()"
   ]
  },
  {
   "cell_type": "markdown",
   "metadata": {
    "id": "zVIchKuK2xsl"
   },
   "source": [
    "Now the dataframe is void of null values.\n",
    "\n"
   ]
  },
  {
   "cell_type": "markdown",
   "metadata": {
    "id": "UdAG9-8f34Dz"
   },
   "source": [
    "# **Splitting the dataframe**\n",
    "Dividing the dataframe into 3 dataframes based on 'Type' which has 3 unique values\n",
    "\n",
    "*   h : house,cottage,villa, semi,terrace\n",
    "*   u : unit, duplex\n",
    "*   t : townhouse\n",
    "\n",
    "\n"
   ]
  },
  {
   "cell_type": "code",
   "execution_count": 20,
   "metadata": {
    "colab": {
     "base_uri": "https://localhost:8080/"
    },
    "id": "3VKUUPIs2dnE",
    "outputId": "eced76c8-af94-4892-da04-b439e1ab55e6"
   },
   "outputs": [
    {
     "data": {
      "text/plain": [
       "array(['h', 'u', 't'], dtype=object)"
      ]
     },
     "execution_count": 20,
     "metadata": {
      "tags": []
     },
     "output_type": "execute_result"
    }
   ],
   "source": [
    "housing_df[\"Type\"].unique()"
   ]
  },
  {
   "cell_type": "code",
   "execution_count": 21,
   "metadata": {
    "colab": {
     "base_uri": "https://localhost:8080/",
     "height": 233
    },
    "id": "knr9-RuT33C8",
    "outputId": "aa34f05b-7e75-46be-a6e4-faa04d8fb06c"
   },
   "outputs": [
    {
     "data": {
      "text/html": [
       "<div>\n",
       "<style scoped>\n",
       "    .dataframe tbody tr th:only-of-type {\n",
       "        vertical-align: middle;\n",
       "    }\n",
       "\n",
       "    .dataframe tbody tr th {\n",
       "        vertical-align: top;\n",
       "    }\n",
       "\n",
       "    .dataframe thead th {\n",
       "        text-align: right;\n",
       "    }\n",
       "</style>\n",
       "<table border=\"1\" class=\"dataframe\">\n",
       "  <thead>\n",
       "    <tr style=\"text-align: right;\">\n",
       "      <th></th>\n",
       "      <th>Suburb</th>\n",
       "      <th>Address</th>\n",
       "      <th>Rooms</th>\n",
       "      <th>Type</th>\n",
       "      <th>Price</th>\n",
       "      <th>Method</th>\n",
       "      <th>SellerG</th>\n",
       "      <th>Date</th>\n",
       "      <th>Distance</th>\n",
       "      <th>Postcode</th>\n",
       "      <th>Bedroom2</th>\n",
       "      <th>Bathroom</th>\n",
       "      <th>Car</th>\n",
       "      <th>Landsize</th>\n",
       "      <th>BuildingArea</th>\n",
       "      <th>YearBuilt</th>\n",
       "      <th>CouncilArea</th>\n",
       "      <th>Lattitude</th>\n",
       "      <th>Longtitude</th>\n",
       "      <th>Regionname</th>\n",
       "      <th>Propertycount</th>\n",
       "    </tr>\n",
       "  </thead>\n",
       "  <tbody>\n",
       "    <tr>\n",
       "      <th>8072</th>\n",
       "      <td>Malvern East</td>\n",
       "      <td>2 Rotherwood Dr</td>\n",
       "      <td>4</td>\n",
       "      <td>h</td>\n",
       "      <td>1715157.0</td>\n",
       "      <td>S</td>\n",
       "      <td>Jellis</td>\n",
       "      <td>20/05/2017</td>\n",
       "      <td>11.2</td>\n",
       "      <td>3145.0</td>\n",
       "      <td>4.0</td>\n",
       "      <td>3.0</td>\n",
       "      <td>2.0</td>\n",
       "      <td>380.0</td>\n",
       "      <td>160.000000</td>\n",
       "      <td>2008.0</td>\n",
       "      <td>Stonnington</td>\n",
       "      <td>-37.8792</td>\n",
       "      <td>145.0869</td>\n",
       "      <td>Southern Metropolitan</td>\n",
       "      <td>8801.0</td>\n",
       "    </tr>\n",
       "    <tr>\n",
       "      <th>1914</th>\n",
       "      <td>Coburg</td>\n",
       "      <td>37 Elizabeth St</td>\n",
       "      <td>3</td>\n",
       "      <td>h</td>\n",
       "      <td>680000.0</td>\n",
       "      <td>S</td>\n",
       "      <td>Nelson</td>\n",
       "      <td>3/12/2016</td>\n",
       "      <td>7.8</td>\n",
       "      <td>3058.0</td>\n",
       "      <td>3.0</td>\n",
       "      <td>1.0</td>\n",
       "      <td>0.0</td>\n",
       "      <td>702.0</td>\n",
       "      <td>108.000000</td>\n",
       "      <td>1950.0</td>\n",
       "      <td>Moreland</td>\n",
       "      <td>-37.7391</td>\n",
       "      <td>144.9812</td>\n",
       "      <td>Northern Metropolitan</td>\n",
       "      <td>11204.0</td>\n",
       "    </tr>\n",
       "    <tr>\n",
       "      <th>4417</th>\n",
       "      <td>Northcote</td>\n",
       "      <td>2B Creek Pde</td>\n",
       "      <td>4</td>\n",
       "      <td>h</td>\n",
       "      <td>2270000.0</td>\n",
       "      <td>S</td>\n",
       "      <td>Collins</td>\n",
       "      <td>10/12/2016</td>\n",
       "      <td>5.5</td>\n",
       "      <td>3070.0</td>\n",
       "      <td>4.0</td>\n",
       "      <td>2.0</td>\n",
       "      <td>2.0</td>\n",
       "      <td>440.0</td>\n",
       "      <td>152.080145</td>\n",
       "      <td>1992.0</td>\n",
       "      <td>Darebin</td>\n",
       "      <td>-37.7852</td>\n",
       "      <td>144.9975</td>\n",
       "      <td>Northern Metropolitan</td>\n",
       "      <td>11364.0</td>\n",
       "    </tr>\n",
       "  </tbody>\n",
       "</table>\n",
       "</div>"
      ],
      "text/plain": [
       "            Suburb          Address  ...             Regionname Propertycount\n",
       "8072  Malvern East  2 Rotherwood Dr  ...  Southern Metropolitan        8801.0\n",
       "1914        Coburg  37 Elizabeth St  ...  Northern Metropolitan       11204.0\n",
       "4417     Northcote     2B Creek Pde  ...  Northern Metropolitan       11364.0\n",
       "\n",
       "[3 rows x 21 columns]"
      ]
     },
     "execution_count": 21,
     "metadata": {
      "tags": []
     },
     "output_type": "execute_result"
    }
   ],
   "source": [
    "house_df = housing_df[housing_df[\"Type\"] == \"h\"].copy()\n",
    "house_df.sample(3)"
   ]
  },
  {
   "cell_type": "code",
   "execution_count": 22,
   "metadata": {
    "colab": {
     "base_uri": "https://localhost:8080/",
     "height": 250
    },
    "id": "1sCjdZuQ3ZW7",
    "outputId": "ff102ed6-5a73-4b99-b5e4-14fc41f99c1c"
   },
   "outputs": [
    {
     "data": {
      "text/html": [
       "<div>\n",
       "<style scoped>\n",
       "    .dataframe tbody tr th:only-of-type {\n",
       "        vertical-align: middle;\n",
       "    }\n",
       "\n",
       "    .dataframe tbody tr th {\n",
       "        vertical-align: top;\n",
       "    }\n",
       "\n",
       "    .dataframe thead th {\n",
       "        text-align: right;\n",
       "    }\n",
       "</style>\n",
       "<table border=\"1\" class=\"dataframe\">\n",
       "  <thead>\n",
       "    <tr style=\"text-align: right;\">\n",
       "      <th></th>\n",
       "      <th>Suburb</th>\n",
       "      <th>Address</th>\n",
       "      <th>Rooms</th>\n",
       "      <th>Type</th>\n",
       "      <th>Price</th>\n",
       "      <th>Method</th>\n",
       "      <th>SellerG</th>\n",
       "      <th>Date</th>\n",
       "      <th>Distance</th>\n",
       "      <th>Postcode</th>\n",
       "      <th>Bedroom2</th>\n",
       "      <th>Bathroom</th>\n",
       "      <th>Car</th>\n",
       "      <th>Landsize</th>\n",
       "      <th>BuildingArea</th>\n",
       "      <th>YearBuilt</th>\n",
       "      <th>CouncilArea</th>\n",
       "      <th>Lattitude</th>\n",
       "      <th>Longtitude</th>\n",
       "      <th>Regionname</th>\n",
       "      <th>Propertycount</th>\n",
       "    </tr>\n",
       "  </thead>\n",
       "  <tbody>\n",
       "    <tr>\n",
       "      <th>2596</th>\n",
       "      <td>Fitzroy North</td>\n",
       "      <td>8/54 Kneen St</td>\n",
       "      <td>1</td>\n",
       "      <td>u</td>\n",
       "      <td>330000.0</td>\n",
       "      <td>VB</td>\n",
       "      <td>Jellis</td>\n",
       "      <td>19/11/2016</td>\n",
       "      <td>3.5</td>\n",
       "      <td>3068.0</td>\n",
       "      <td>1.0</td>\n",
       "      <td>1.0</td>\n",
       "      <td>1.0</td>\n",
       "      <td>0.0</td>\n",
       "      <td>152.080145</td>\n",
       "      <td>1970.0</td>\n",
       "      <td>Yarra</td>\n",
       "      <td>-37.78200</td>\n",
       "      <td>144.98960</td>\n",
       "      <td>Northern Metropolitan</td>\n",
       "      <td>6244.0</td>\n",
       "    </tr>\n",
       "    <tr>\n",
       "      <th>10735</th>\n",
       "      <td>Malvern</td>\n",
       "      <td>4/30 Finlayson St</td>\n",
       "      <td>1</td>\n",
       "      <td>u</td>\n",
       "      <td>338000.0</td>\n",
       "      <td>SP</td>\n",
       "      <td>hockingstuart</td>\n",
       "      <td>8/07/2017</td>\n",
       "      <td>5.9</td>\n",
       "      <td>3144.0</td>\n",
       "      <td>1.0</td>\n",
       "      <td>1.0</td>\n",
       "      <td>1.0</td>\n",
       "      <td>0.0</td>\n",
       "      <td>152.080145</td>\n",
       "      <td>1970.0</td>\n",
       "      <td>Stonnington</td>\n",
       "      <td>-37.87012</td>\n",
       "      <td>145.03545</td>\n",
       "      <td>Southern Metropolitan</td>\n",
       "      <td>4675.0</td>\n",
       "    </tr>\n",
       "    <tr>\n",
       "      <th>11165</th>\n",
       "      <td>Prahran</td>\n",
       "      <td>4/24 Grandview Gr</td>\n",
       "      <td>1</td>\n",
       "      <td>u</td>\n",
       "      <td>400000.0</td>\n",
       "      <td>VB</td>\n",
       "      <td>hockingstuart</td>\n",
       "      <td>12/08/2017</td>\n",
       "      <td>4.6</td>\n",
       "      <td>3181.0</td>\n",
       "      <td>1.0</td>\n",
       "      <td>1.0</td>\n",
       "      <td>2.0</td>\n",
       "      <td>0.0</td>\n",
       "      <td>50.000000</td>\n",
       "      <td>1960.0</td>\n",
       "      <td>Stonnington</td>\n",
       "      <td>-37.85126</td>\n",
       "      <td>145.00832</td>\n",
       "      <td>Southern Metropolitan</td>\n",
       "      <td>7717.0</td>\n",
       "    </tr>\n",
       "  </tbody>\n",
       "</table>\n",
       "</div>"
      ],
      "text/plain": [
       "              Suburb            Address  ...             Regionname Propertycount\n",
       "2596   Fitzroy North      8/54 Kneen St  ...  Northern Metropolitan        6244.0\n",
       "10735        Malvern  4/30 Finlayson St  ...  Southern Metropolitan        4675.0\n",
       "11165        Prahran  4/24 Grandview Gr  ...  Southern Metropolitan        7717.0\n",
       "\n",
       "[3 rows x 21 columns]"
      ]
     },
     "execution_count": 22,
     "metadata": {
      "tags": []
     },
     "output_type": "execute_result"
    }
   ],
   "source": [
    "unit_df = housing_df[housing_df[\"Type\"] == \"u\"].copy()\n",
    "unit_df.sample(3)"
   ]
  },
  {
   "cell_type": "code",
   "execution_count": 23,
   "metadata": {
    "colab": {
     "base_uri": "https://localhost:8080/",
     "height": 268
    },
    "id": "Ya8IfFtV5fuf",
    "outputId": "46f1136b-49f2-4f5c-a76a-6510faac4288"
   },
   "outputs": [
    {
     "data": {
      "text/html": [
       "<div>\n",
       "<style scoped>\n",
       "    .dataframe tbody tr th:only-of-type {\n",
       "        vertical-align: middle;\n",
       "    }\n",
       "\n",
       "    .dataframe tbody tr th {\n",
       "        vertical-align: top;\n",
       "    }\n",
       "\n",
       "    .dataframe thead th {\n",
       "        text-align: right;\n",
       "    }\n",
       "</style>\n",
       "<table border=\"1\" class=\"dataframe\">\n",
       "  <thead>\n",
       "    <tr style=\"text-align: right;\">\n",
       "      <th></th>\n",
       "      <th>Suburb</th>\n",
       "      <th>Address</th>\n",
       "      <th>Rooms</th>\n",
       "      <th>Type</th>\n",
       "      <th>Price</th>\n",
       "      <th>Method</th>\n",
       "      <th>SellerG</th>\n",
       "      <th>Date</th>\n",
       "      <th>Distance</th>\n",
       "      <th>Postcode</th>\n",
       "      <th>Bedroom2</th>\n",
       "      <th>Bathroom</th>\n",
       "      <th>Car</th>\n",
       "      <th>Landsize</th>\n",
       "      <th>BuildingArea</th>\n",
       "      <th>YearBuilt</th>\n",
       "      <th>CouncilArea</th>\n",
       "      <th>Lattitude</th>\n",
       "      <th>Longtitude</th>\n",
       "      <th>Regionname</th>\n",
       "      <th>Propertycount</th>\n",
       "    </tr>\n",
       "  </thead>\n",
       "  <tbody>\n",
       "    <tr>\n",
       "      <th>3283</th>\n",
       "      <td>Heidelberg West</td>\n",
       "      <td>2/287 Liberty Pde</td>\n",
       "      <td>2</td>\n",
       "      <td>t</td>\n",
       "      <td>370000.0</td>\n",
       "      <td>VB</td>\n",
       "      <td>Miles</td>\n",
       "      <td>7/05/2016</td>\n",
       "      <td>9.4</td>\n",
       "      <td>3081.0</td>\n",
       "      <td>2.0</td>\n",
       "      <td>1.0</td>\n",
       "      <td>1.0</td>\n",
       "      <td>100.0</td>\n",
       "      <td>90.0</td>\n",
       "      <td>2013.0</td>\n",
       "      <td>Banyule</td>\n",
       "      <td>-37.7383</td>\n",
       "      <td>145.0360</td>\n",
       "      <td>Eastern Metropolitan</td>\n",
       "      <td>2674.0</td>\n",
       "    </tr>\n",
       "    <tr>\n",
       "      <th>7730</th>\n",
       "      <td>Chadstone</td>\n",
       "      <td>1/29 Atkinson St</td>\n",
       "      <td>3</td>\n",
       "      <td>t</td>\n",
       "      <td>905000.0</td>\n",
       "      <td>S</td>\n",
       "      <td>Buxton</td>\n",
       "      <td>20/05/2017</td>\n",
       "      <td>13.6</td>\n",
       "      <td>3148.0</td>\n",
       "      <td>3.0</td>\n",
       "      <td>1.0</td>\n",
       "      <td>2.0</td>\n",
       "      <td>418.0</td>\n",
       "      <td>132.0</td>\n",
       "      <td>1955.0</td>\n",
       "      <td>Monash</td>\n",
       "      <td>-37.8860</td>\n",
       "      <td>145.0960</td>\n",
       "      <td>Southern Metropolitan</td>\n",
       "      <td>3582.0</td>\n",
       "    </tr>\n",
       "    <tr>\n",
       "      <th>8655</th>\n",
       "      <td>Moorabbin</td>\n",
       "      <td>3/29 Fiddes St</td>\n",
       "      <td>2</td>\n",
       "      <td>t</td>\n",
       "      <td>742500.0</td>\n",
       "      <td>S</td>\n",
       "      <td>Buxton</td>\n",
       "      <td>13/05/2017</td>\n",
       "      <td>14.6</td>\n",
       "      <td>3189.0</td>\n",
       "      <td>2.0</td>\n",
       "      <td>1.0</td>\n",
       "      <td>1.0</td>\n",
       "      <td>179.0</td>\n",
       "      <td>101.0</td>\n",
       "      <td>2001.0</td>\n",
       "      <td>Kingston</td>\n",
       "      <td>-37.9369</td>\n",
       "      <td>145.0473</td>\n",
       "      <td>Southern Metropolitan</td>\n",
       "      <td>2555.0</td>\n",
       "    </tr>\n",
       "  </tbody>\n",
       "</table>\n",
       "</div>"
      ],
      "text/plain": [
       "               Suburb            Address  ...             Regionname Propertycount\n",
       "3283  Heidelberg West  2/287 Liberty Pde  ...   Eastern Metropolitan        2674.0\n",
       "7730        Chadstone   1/29 Atkinson St  ...  Southern Metropolitan        3582.0\n",
       "8655        Moorabbin     3/29 Fiddes St  ...  Southern Metropolitan        2555.0\n",
       "\n",
       "[3 rows x 21 columns]"
      ]
     },
     "execution_count": 23,
     "metadata": {
      "tags": []
     },
     "output_type": "execute_result"
    }
   ],
   "source": [
    "townhouse_df = housing_df[housing_df[\"Type\"] == \"t\"].copy()\n",
    "townhouse_df.sample(3)"
   ]
  },
  {
   "cell_type": "markdown",
   "metadata": {
    "id": "olUVhURs6nV0"
   },
   "source": [
    "# **Exploratory Analysis and Visualization**\n",
    "> Let us compare the different types of real-estate sold in Melbourne.\n",
    "\n",
    "\n",
    "\n",
    "\n",
    "\n"
   ]
  },
  {
   "cell_type": "code",
   "execution_count": 24,
   "metadata": {
    "colab": {
     "base_uri": "https://localhost:8080/",
     "height": 350
    },
    "id": "YMLUNWNi5q1M",
    "outputId": "5d64e5b3-3b99-45ea-cdce-5877c03c8ffd"
   },
   "outputs": [
    {
     "data": {
      "image/png": "[encoded data removed]",
      "text/plain": [
       "<Figure size 504x360 with 1 Axes>"
      ]
     },
     "metadata": {
      "needs_background": "light",
      "tags": []
     },
     "output_type": "display_data"
    }
   ],
   "source": [
    "plt.figure(figsize=(7,5))\n",
    "sns.countplot(x = housing_df.Type,palette=\"pastel\")\n",
    "plt.title(\"Count of different types of real-estate sold\")\n",
    "plt.xlabel(\"Type (h/u/t)\")\n",
    "plt.ylabel(\"Total Count\")\n",
    "plt.show()"
   ]
  },
  {
   "cell_type": "code",
   "execution_count": 25,
   "metadata": {
    "colab": {
     "base_uri": "https://localhost:8080/",
     "height": 382
    },
    "id": "GI7DlLH-70-b",
    "outputId": "b47af118-273c-4c33-dd08-ba50d5ae7dcb"
   },
   "outputs": [
    {
     "data": {
      "image/png": "[encoded data removed]",
      "text/plain": [
       "<Figure size 432x720 with 1 Axes>"
      ]
     },
     "metadata": {
      "tags": []
     },
     "output_type": "display_data"
    }
   ],
   "source": [
    "plt.figure(figsize=(6,10))\n",
    "plt.pie(x = housing_df.Type.value_counts(),labels=housing_df.Type.value_counts().index,startangle=180,autopct='%1.1f%%',explode=(0.025,0.025,0.025) ,colors=[\"lightblue\",\"lightgreen\",\"navajowhite\"])\n",
    "plt.title(\"% of types of real-estate sold\")\n",
    "plt.legend()\n",
    "plt.show()"
   ]
  },
  {
   "cell_type": "markdown",
   "metadata": {
    "id": "F0KlxOtY_2e5"
   },
   "source": [
    "Type houses(\"h\") accounts to 62% of real-estate sold in Melbourne with 6000+ homes being sold .This is because a lot of people are looking for residence here as Melbourne is a tier-1 City with all amenities and a decent number of tourist places.A tier-1 city which needs to cater to the needs of unviersity dorms ,private housing,gated communities has close to 3000 units(\"u\") which accounts to 28%.The last type is townhouse(\"t\") which accounts to the last 10%.A little over 1000 townhouses have been sold to make corporate offices ,goverment buildings."
   ]
  },
  {
   "cell_type": "markdown",
   "metadata": {
    "id": "KAZEBNMOnG1l"
   },
   "source": [
    "**DIFFERENT METHODS OF SELLING**\n",
    "\n",
    "\n",
    "> Now let's look at how real-estate is being sold.Different method's are being listed below :\n",
    "\n",
    "\n",
    "\n",
    "*   S - property sold\n",
    "*   SP - property sold prior\n",
    "*   PI - property passed in\n",
    "*   VB - vendor bid\n",
    "*   SA - sold after auction\n",
    "\n",
    "\n",
    "\n"
   ]
  },
  {
   "cell_type": "code",
   "execution_count": 26,
   "metadata": {
    "colab": {
     "base_uri": "https://localhost:8080/",
     "height": 350
    },
    "id": "vWVibrFSB5Bd",
    "outputId": "838fc572-16aa-48b2-9160-d96d4970b3c9"
   },
   "outputs": [
    {
     "data": {
      "image/png": "[encoded data removed]",
      "text/plain": [
       "<Figure size 1008x360 with 1 Axes>"
      ]
     },
     "metadata": {
      "needs_background": "light",
      "tags": []
     },
     "output_type": "display_data"
    }
   ],
   "source": [
    "plt.figure(figsize=(14,5))\n",
    "plt.title(\"Methods of real-estate being sold\")\n",
    "sns.countplot(x = housing_df.Method, hue=housing_df.Type, order=[\"SA\",\"VB\",\"SP\",\"PI\",\"S\"] ,palette=\"pastel\")\n",
    "\n",
    "plt.xlabel(\"Methods\")\n",
    "plt.ylabel(\"Count\")\n",
    "plt.legend([\"Houses\",\"Units\",\"Townhouses\"])\n",
    "plt.show()"
   ]
  },
  {
   "cell_type": "markdown",
   "metadata": {
    "id": "gYmvvmCKsRVq"
   },
   "source": [
    "It can be seen that that maximum number of real estate across all types(h/u/t)\n",
    "has been sold via \"S\" method which is direct selling which is followed by PI SP AND VB.Real-estate sold via SA is very low."
   ]
  },
  {
   "cell_type": "markdown",
   "metadata": {
    "id": "C34ry-zL1S0D"
   },
   "source": [
    "**Year of Construction Of Real Estate**\n",
    "> Let us analyze the year in which Real-estate sold in Melbourne was built from 1950 - 2018 .This impacts the housing market as a newer construction would be worth more and its easier to sell."
   ]
  },
  {
   "cell_type": "code",
   "execution_count": 27,
   "metadata": {
    "colab": {
     "base_uri": "https://localhost:8080/",
     "height": 424
    },
    "id": "Ch1xcjiyyZvh",
    "outputId": "347955ac-3ecb-437a-b4b0-6280979428b0"
   },
   "outputs": [
    {
     "data": {
      "text/html": [
       "<div>\n",
       "<style scoped>\n",
       "    .dataframe tbody tr th:only-of-type {\n",
       "        vertical-align: middle;\n",
       "    }\n",
       "\n",
       "    .dataframe tbody tr th {\n",
       "        vertical-align: top;\n",
       "    }\n",
       "\n",
       "    .dataframe thead th {\n",
       "        text-align: right;\n",
       "    }\n",
       "</style>\n",
       "<table border=\"1\" class=\"dataframe\">\n",
       "  <thead>\n",
       "    <tr style=\"text-align: right;\">\n",
       "      <th></th>\n",
       "      <th>Year</th>\n",
       "      <th>Count</th>\n",
       "    </tr>\n",
       "  </thead>\n",
       "  <tbody>\n",
       "    <tr>\n",
       "      <th>0</th>\n",
       "      <td>1970.0</td>\n",
       "      <td>804</td>\n",
       "    </tr>\n",
       "    <tr>\n",
       "      <th>1</th>\n",
       "      <td>1960.0</td>\n",
       "      <td>658</td>\n",
       "    </tr>\n",
       "    <tr>\n",
       "      <th>2</th>\n",
       "      <td>1950.0</td>\n",
       "      <td>526</td>\n",
       "    </tr>\n",
       "    <tr>\n",
       "      <th>3</th>\n",
       "      <td>1980.0</td>\n",
       "      <td>277</td>\n",
       "    </tr>\n",
       "    <tr>\n",
       "      <th>4</th>\n",
       "      <td>2000.0</td>\n",
       "      <td>276</td>\n",
       "    </tr>\n",
       "    <tr>\n",
       "      <th>...</th>\n",
       "      <td>...</td>\n",
       "      <td>...</td>\n",
       "    </tr>\n",
       "    <tr>\n",
       "      <th>64</th>\n",
       "      <td>1981.0</td>\n",
       "      <td>3</td>\n",
       "    </tr>\n",
       "    <tr>\n",
       "      <th>65</th>\n",
       "      <td>1964.0</td>\n",
       "      <td>3</td>\n",
       "    </tr>\n",
       "    <tr>\n",
       "      <th>66</th>\n",
       "      <td>1954.0</td>\n",
       "      <td>3</td>\n",
       "    </tr>\n",
       "    <tr>\n",
       "      <th>67</th>\n",
       "      <td>1959.0</td>\n",
       "      <td>2</td>\n",
       "    </tr>\n",
       "    <tr>\n",
       "      <th>68</th>\n",
       "      <td>2018.0</td>\n",
       "      <td>1</td>\n",
       "    </tr>\n",
       "  </tbody>\n",
       "</table>\n",
       "<p>69 rows × 2 columns</p>\n",
       "</div>"
      ],
      "text/plain": [
       "      Year  Count\n",
       "0   1970.0    804\n",
       "1   1960.0    658\n",
       "2   1950.0    526\n",
       "3   1980.0    277\n",
       "4   2000.0    276\n",
       "..     ...    ...\n",
       "64  1981.0      3\n",
       "65  1964.0      3\n",
       "66  1954.0      3\n",
       "67  1959.0      2\n",
       "68  2018.0      1\n",
       "\n",
       "[69 rows x 2 columns]"
      ]
     },
     "execution_count": 27,
     "metadata": {
      "tags": []
     },
     "output_type": "execute_result"
    }
   ],
   "source": [
    "year_df = housing_df[\"YearBuilt\"].value_counts().to_frame().reset_index().rename(columns={'index': 'Year','YearBuilt':'Count'})\n",
    "year_df"
   ]
  },
  {
   "cell_type": "markdown",
   "metadata": {
    "id": "WMQiFYGwWUde"
   },
   "source": [
    "As we can see 804 landholdings have been built in the Year 1970"
   ]
  },
  {
   "cell_type": "code",
   "execution_count": 28,
   "metadata": {
    "id": "7vfapgeTzUeX"
   },
   "outputs": [],
   "source": [
    "year2_df = housing_df[[\"Type\",\"YearBuilt\"]]\n",
    "house_year = year2_df[year2_df[\"Type\"]==\"h\"].YearBuilt.value_counts().to_frame().reset_index().rename(columns={'index': 'Year','YearBuilt':'Count'})\n",
    "unit_year = year2_df[year2_df[\"Type\"]==\"u\"].YearBuilt.value_counts().to_frame().reset_index().rename(columns={'index': 'Year','YearBuilt':'Count'})\n",
    "townhouse_year = year2_df[year2_df[\"Type\"]==\"t\"].YearBuilt.value_counts().to_frame().reset_index().rename(columns={'index': 'Year','YearBuilt':'Count'})"
   ]
  },
  {
   "cell_type": "code",
   "execution_count": 29,
   "metadata": {
    "colab": {
     "base_uri": "https://localhost:8080/",
     "height": 350
    },
    "id": "2GWbROxfnzlj",
    "outputId": "e5a30df5-24b2-4143-9a3b-88c200d34311"
   },
   "outputs": [
    {
     "data": {
      "image/png": "[encoded data removed]",
      "text/plain": [
       "<Figure size 1080x360 with 1 Axes>"
      ]
     },
     "metadata": {
      "needs_background": "light",
      "tags": []
     },
     "output_type": "display_data"
    }
   ],
   "source": [
    "fig,ax = plt.subplots(figsize = (15,5))\n",
    "plt.title(\"Real estate being built across all years\")\n",
    "sns.lineplot(data=house_year, x='Year', y='Count')\n",
    "sns.lineplot(data=unit_year, x='Year', y='Count')\n",
    "sns.lineplot(data=townhouse_year, x='Year', y='Count')\n",
    "ax.set(xticks=np.arange(1950, 2019, 5))\n",
    "\n",
    "plt.legend(['Houses','Units','Townhouses'])\n",
    "plt.show()"
   ]
  },
  {
   "cell_type": "markdown",
   "metadata": {
    "id": "wAh2V-Zg1o6T"
   },
   "source": [
    "Clearly we see a spike in Years 1960 and 1970 and there is not much movement after 1970 apart from minute spikes  on 1975 ,1980,1990 and 2000.Maximum number of real-estate has been built in the years 1960-1980 across all three types.This suggests than a construction between the years 1960-1980 is fairly modern and suffices the needs of the buyers."
   ]
  },
  {
   "cell_type": "markdown",
   "metadata": {
    "id": "TB8blRpb5PHG"
   },
   "source": [
    "**SUBURBS WITH HIGH SALES**\n",
    "\n",
    "\n",
    "> Let us check out the Suburbs in which maximum number of real estate has been sold.\n",
    "\n"
   ]
  },
  {
   "cell_type": "code",
   "execution_count": 30,
   "metadata": {
    "id": "YRtM-3sDwVP-"
   },
   "outputs": [],
   "source": [
    "filtered_housing_df = housing_df.Suburb.value_counts().to_frame().reset_index().rename(columns={\"index\":\"Suburb\",\"Suburb\":\"Count\"})\n",
    "filtered_housing_df = filtered_housing_df.head(20)"
   ]
  },
  {
   "cell_type": "code",
   "execution_count": 31,
   "metadata": {
    "colab": {
     "base_uri": "https://localhost:8080/",
     "height": 444
    },
    "id": "mB_vhm037Lk7",
    "outputId": "c9bbefd6-c0ec-4802-fd3b-b47371388220"
   },
   "outputs": [
    {
     "data": {
      "image/png": "[encoded data removed]",
      "text/plain": [
       "<Figure size 1152x504 with 1 Axes>"
      ]
     },
     "metadata": {
      "needs_background": "light",
      "tags": []
     },
     "output_type": "display_data"
    }
   ],
   "source": [
    "fig, ax = plt.subplots(figsize =(16, 7)) \n",
    "plt.title(\"Top 20 Suburbs by sales\")\n",
    "ax.barh(filtered_housing_df[\"Suburb\"],filtered_housing_df[\"Count\"]) \n",
    "ax.invert_yaxis() \n",
    "ax.grid(b = True, color ='grey', linestyle ='-.', linewidth = 0.5, alpha = 0.2) \n",
    "for i in ax.patches: \n",
    "    plt.text(i.get_width()+0.2, i.get_y()+0.5,  str(round((i.get_width()), 2)), fontsize = 10, fontweight ='regular', color ='black') \n",
    "plt.show()"
   ]
  },
  {
   "cell_type": "markdown",
   "metadata": {
    "id": "2fgxIuXvdDD9"
   },
   "source": [
    "Here is a plot of top 20 Suburbs by sales.'Reservoir' has the maximum number of sales of 167 followed by 'Bentleigh East' having 119 number of sales.The rest vary from 58 to 98 with no significant difference in sales.This says that Suburbs 'Reservoir' and 'Bentleigh East' are your go-to suburbs as your locality is very important while buying any type of real-estate."
   ]
  },
  {
   "cell_type": "markdown",
   "metadata": {
    "id": "aFi87t3FeeCn"
   },
   "source": [
    "**Number of Rooms**\n",
    ">We are going to analyze the sales based on number of rooms.Number of Rooms is very important as it says how well the sapce is divided and what buyers are looking for."
   ]
  },
  {
   "cell_type": "code",
   "execution_count": 32,
   "metadata": {
    "id": "mj2HwcH0mTN0"
   },
   "outputs": [],
   "source": [
    "rooms_df = housing_df[\"Rooms\"].value_counts().to_frame().reset_index().rename(columns={\"index\":\"Rooms\",\"Rooms\":\"Count\"})"
   ]
  },
  {
   "cell_type": "code",
   "execution_count": 33,
   "metadata": {
    "colab": {
     "base_uri": "https://localhost:8080/",
     "height": 773
    },
    "id": "CoHWKQClspGm",
    "outputId": "8f114694-cc4a-48ac-f3b4-6812852314c5"
   },
   "outputs": [
    {
     "data": {
      "text/html": [
       "<div>\n",
       "<style scoped>\n",
       "    .dataframe tbody tr th:only-of-type {\n",
       "        vertical-align: middle;\n",
       "    }\n",
       "\n",
       "    .dataframe tbody tr th {\n",
       "        vertical-align: top;\n",
       "    }\n",
       "\n",
       "    .dataframe thead th {\n",
       "        text-align: right;\n",
       "    }\n",
       "</style>\n",
       "<table border=\"1\" class=\"dataframe\">\n",
       "  <thead>\n",
       "    <tr style=\"text-align: right;\">\n",
       "      <th></th>\n",
       "      <th>Rooms</th>\n",
       "      <th>Count</th>\n",
       "    </tr>\n",
       "  </thead>\n",
       "  <tbody>\n",
       "    <tr>\n",
       "      <th>0</th>\n",
       "      <td>3</td>\n",
       "      <td>2144</td>\n",
       "    </tr>\n",
       "    <tr>\n",
       "      <th>1</th>\n",
       "      <td>2</td>\n",
       "      <td>1712</td>\n",
       "    </tr>\n",
       "    <tr>\n",
       "      <th>2</th>\n",
       "      <td>4</td>\n",
       "      <td>974</td>\n",
       "    </tr>\n",
       "    <tr>\n",
       "      <th>3</th>\n",
       "      <td>1</td>\n",
       "      <td>400</td>\n",
       "    </tr>\n",
       "    <tr>\n",
       "      <th>4</th>\n",
       "      <td>5</td>\n",
       "      <td>219</td>\n",
       "    </tr>\n",
       "    <tr>\n",
       "      <th>5</th>\n",
       "      <td>6</td>\n",
       "      <td>18</td>\n",
       "    </tr>\n",
       "    <tr>\n",
       "      <th>6</th>\n",
       "      <td>7</td>\n",
       "      <td>7</td>\n",
       "    </tr>\n",
       "    <tr>\n",
       "      <th>7</th>\n",
       "      <td>8</td>\n",
       "      <td>2</td>\n",
       "    </tr>\n",
       "    <tr>\n",
       "      <th>8</th>\n",
       "      <td>10</td>\n",
       "      <td>1</td>\n",
       "    </tr>\n",
       "  </tbody>\n",
       "</table>\n",
       "</div>"
      ],
      "text/plain": [
       "   Rooms  Count\n",
       "0      3   2144\n",
       "1      2   1712\n",
       "2      4    974\n",
       "3      1    400\n",
       "4      5    219\n",
       "5      6     18\n",
       "6      7      7\n",
       "7      8      2\n",
       "8     10      1"
      ]
     },
     "metadata": {
      "tags": []
     },
     "output_type": "display_data"
    },
    {
     "data": {
      "image/png": "[encoded data removed]",
      "text/plain": [
       "<Figure size 1008x504 with 1 Axes>"
      ]
     },
     "metadata": {
      "needs_background": "light",
      "tags": []
     },
     "output_type": "display_data"
    }
   ],
   "source": [
    "display(rooms_df)\n",
    "plt.figure(figsize=(14,7))\n",
    "plt.title(\"Sales by Number of Rooms\")\n",
    "sns.countplot(x = housing_df.Rooms, hue=housing_df.Type, order=[3,2,4,1,5,6,7,8,10] ,palette=\"pastel\")\n",
    "\n",
    "plt.xlabel(\"Rooms\")\n",
    "plt.ylabel(\"Count\")\n",
    "plt.legend([\"Houses\",\"Units\",\"Townhouses\"], loc=\"upper right\")\n",
    "plt.show()"
   ]
  },
  {
   "cell_type": "markdown",
   "metadata": {
    "id": "wkNhqvFBfU5x"
   },
   "source": [
    "Overall sales of Rooms 0-4 occupies 90% with 3 Rooms houses being sold the most and 2 room units being sold the most.The sale of 6+ Room real-estate is negligible .This says that buyers are mostly looking for real-esate with 0-3 Rooms."
   ]
  },
  {
   "cell_type": "markdown",
   "metadata": {
    "id": "pqJPpk7qgA6h"
   },
   "source": [
    "# **Sales By Post-Codes**\n",
    ">Lets Plot the sales of real-estate by Post-Codes."
   ]
  },
  {
   "cell_type": "code",
   "execution_count": 34,
   "metadata": {
    "id": "H6VnFL6MgZYW"
   },
   "outputs": [],
   "source": [
    "postcode_df = housing_df.Postcode.value_counts().to_frame().reset_index().rename(columns={\"index\":\"PostCode\",\"Postcode\":\"Count\"})\n",
    "postcode_df = postcode_df.head(20)\n",
    "postcode_df = postcode_df.sort_values(\"PostCode\",ascending=True)"
   ]
  },
  {
   "cell_type": "code",
   "execution_count": 35,
   "metadata": {
    "colab": {
     "base_uri": "https://localhost:8080/",
     "height": 350
    },
    "id": "jItvlkargkjC",
    "outputId": "aaff77fc-af8e-4359-ee87-1a96d0333f22"
   },
   "outputs": [
    {
     "data": {
      "image/png": "[encoded data removed]",
      "text/plain": [
       "<Figure size 720x360 with 1 Axes>"
      ]
     },
     "metadata": {
      "needs_background": "light",
      "tags": []
     },
     "output_type": "display_data"
    }
   ],
   "source": [
    "plt.figure(figsize=(10,5))\n",
    "plt.scatter(postcode_df[\"PostCode\"],postcode_df[\"Count\"], color=\"r\");\n",
    "plt.plot(postcode_df[\"PostCode\"],postcode_df[\"Count\"],color=\"g\");\n",
    "\n",
    "plt.xlabel(\"Post Codes\")\n",
    "plt.ylabel(\"Count\")\n",
    "plt.title(\"Sales By PostCodes\")\n",
    "plt.show()"
   ]
  },
  {
   "cell_type": "markdown",
   "metadata": {
    "id": "FXm6Nnhmm70P"
   },
   "source": [
    "Post-Codes 3043 and 3069 have highest number of sales.There is a lot of variation observed in this plot.We can say that real-estate has been spread out across Melbourne and the buying is heavy in some Post-Codes."
   ]
  },
  {
   "cell_type": "markdown",
   "metadata": {
    "id": "jpdHom4Un8mm"
   },
   "source": [
    "**Q) Sales By Bath Rooms and Car Spots**\n"
   ]
  },
  {
   "cell_type": "code",
   "execution_count": 36,
   "metadata": {
    "colab": {
     "base_uri": "https://localhost:8080/",
     "height": 350
    },
    "id": "a2N17YPmhvKr",
    "outputId": "7fddd6ab-b1db-4900-9a2c-66fd2c0969e8"
   },
   "outputs": [
    {
     "data": {
      "image/png": "[encoded data removed]",
      "text/plain": [
       "<Figure size 1368x360 with 2 Axes>"
      ]
     },
     "metadata": {
      "needs_background": "light",
      "tags": []
     },
     "output_type": "display_data"
    }
   ],
   "source": [
    "fig, ax = plt.subplots(1,2, figsize=(19, 5))\n",
    "p1 = sns.countplot(x=housing_df.Bathroom, color='lightgreen',ax=ax[0]);\n",
    "p1.set_title(\"Sales By Number of Bath Rooms\")\n",
    "p1.set_ylabel(\"Count\")\n",
    "p1.set_xlabel(\"Bath Rooms\")\n",
    "p2 = sns.countplot(x=housing_df.Car, color='skyblue',ax=ax[1]);\n",
    "p2.set_title(\"Sales By Cat Spots\")\n",
    "p2.set_ylabel(\"Count\")\n",
    "p2.set_xlabel(\"Car Spots\")\n",
    "fig.show()"
   ]
  },
  {
   "cell_type": "markdown",
   "metadata": {
    "id": "cP4RgKfgTV0y"
   },
   "source": [
    "> From the plot we can say that land holdings with 1 Bath Room and 1 Car spot are being sold the highest followed by landholdings with 2 Bathrooms and Car Spots.Sales from other variables seem insignificant. "
   ]
  },
  {
   "cell_type": "markdown",
   "metadata": {
    "id": "8DPAg3UDqIBU"
   },
   "source": [
    "**Q) Sales based on Distance from the City Center**\n",
    "\n",
    "\n"
   ]
  },
  {
   "cell_type": "code",
   "execution_count": 37,
   "metadata": {
    "colab": {
     "base_uri": "https://localhost:8080/",
     "height": 350
    },
    "id": "4-cim0gIoaKr",
    "outputId": "512e40b7-eb77-4115-afe2-934b9c821f61"
   },
   "outputs": [
    {
     "data": {
      "image/png": "[encoded data removed]",
      "text/plain": [
       "<Figure size 1080x360 with 2 Axes>"
      ]
     },
     "metadata": {
      "needs_background": "light",
      "tags": []
     },
     "output_type": "display_data"
    }
   ],
   "source": [
    "plt.figure(figsize=(15,5))\n",
    "plt.subplot(1,2,2)\n",
    "sns.scatterplot(x=housing_df[\"Distance\"],y=housing_df[\"Price\"],hue=housing_df.Type);\n",
    "plt.title(\"Sales by Distance from City Center\")\n",
    "plt.xlabel(\"Distance from City Center\")\n",
    "plt.ylabel(\"Price in AUD\")\n",
    "\n",
    "plt.subplot(1,2,1)\n",
    "mean_dist = housing_df[\"Distance\"].mean()\n",
    "less_dist = housing_df[housing_df[\"Distance\"]<mean_dist].shape[0]\n",
    "more_dist = housing_df[housing_df[\"Distance\"]>mean_dist].shape[0]\n",
    "distance_df = pd.DataFrame({\"Distance\":[\"Less than Mean\",\"More than Mean\"], \"Count\":[less_dist,more_dist]})\n",
    "sns.barplot(y=distance_df[\"Count\"],x=distance_df[\"Distance\"])\n",
    "plt.title('Sales Based On Distance from City Center')        \n",
    "plt.xlabel('Distance from City Center')\n",
    "plt.ylabel('Count')\n",
    "plt.show()"
   ]
  },
  {
   "cell_type": "markdown",
   "metadata": {
    "id": "3vX3NdV1SfPG"
   },
   "source": [
    ">It can be seen that Sale of Real Esate with distance more than the mean is greater than Real Estate with distance less than the mean.Although there is not much difference.Buy sales across all types is very high for distance in the range 0 to 15 which can be seen in the scatter plot."
   ]
  },
  {
   "cell_type": "markdown",
   "metadata": {
    "id": "qaX8jijfzQCn"
   },
   "source": [
    "**Q) Do Building Size and Land Area affect the Price ?**"
   ]
  },
  {
   "cell_type": "code",
   "execution_count": 38,
   "metadata": {
    "id": "J34_Xr2Txdqi"
   },
   "outputs": [],
   "source": [
    "building_area_df = housing_df[housing_df[\"YearBuilt\"]==2017]\n",
    "land_size_df = housing_df[housing_df[\"YearBuilt\"]==2017]"
   ]
  },
  {
   "cell_type": "code",
   "execution_count": 39,
   "metadata": {
    "colab": {
     "base_uri": "https://localhost:8080/",
     "height": 350
    },
    "id": "caqMqiW-tacT",
    "outputId": "cf63ff82-d068-4402-cc67-3b308e461748"
   },
   "outputs": [
    {
     "data": {
      "image/png": "[encoded data removed]",
      "text/plain": [
       "<Figure size 1080x360 with 2 Axes>"
      ]
     },
     "metadata": {
      "needs_background": "light",
      "tags": []
     },
     "output_type": "display_data"
    }
   ],
   "source": [
    "plt.figure(figsize=(15,5))\n",
    "plt.subplot(1,2,2)\n",
    "sns.lineplot(data=building_area_df, x='BuildingArea', y='Price',color=\"g\");\n",
    "plt.title(\"Building Area v/s Price\")\n",
    "plt.xlabel(\"Building Area\")\n",
    "plt.ylabel(\"Price in AUD\")\n",
    "\n",
    "plt.subplot(1,2,1)\n",
    "sns.lineplot(data=land_size_df, x='Landsize', y='Price');\n",
    "plt.title(\"Land Size v/s Price\")\n",
    "plt.xlabel(\"Land Size\")\n",
    "plt.ylabel(\"Price in AUD\")\n",
    "plt.show()\n"
   ]
  },
  {
   "cell_type": "markdown",
   "metadata": {
    "id": "St0tVe3SQceE"
   },
   "source": [
    ">Building Area and Land Size have a significant impact on the Price.In the above plot we are going to consider data from the year 2017.It can be seen that the overall trend is upward for both parameters.The slight Corrections are caused due to variotions in region in the data.Overall we can say that Land Size and Building Area have a liner relationship with Price."
   ]
  },
  {
   "cell_type": "markdown",
   "metadata": {
    "id": "tFF7tNepDOkg"
   },
   "source": [
    "**Q) What are the Top 5 Suburbs based on Property Count**"
   ]
  },
  {
   "cell_type": "code",
   "execution_count": 40,
   "metadata": {
    "id": "v90AWks200N8"
   },
   "outputs": [],
   "source": [
    "property_count_df = housing_df.groupby(\"Suburb\")[\"Propertycount\"].unique().head(5).to_frame().reset_index()\n",
    "my_circle=plt.Circle( (0,0), 0.7, color='white')"
   ]
  },
  {
   "cell_type": "code",
   "execution_count": 41,
   "metadata": {
    "colab": {
     "base_uri": "https://localhost:8080/",
     "height": 437
    },
    "id": "Il8itA_QGbNk",
    "outputId": "4678a212-df86-4184-c979-34c3405172fb"
   },
   "outputs": [
    {
     "data": {
      "text/html": [
       "<div>\n",
       "<style scoped>\n",
       "    .dataframe tbody tr th:only-of-type {\n",
       "        vertical-align: middle;\n",
       "    }\n",
       "\n",
       "    .dataframe tbody tr th {\n",
       "        vertical-align: top;\n",
       "    }\n",
       "\n",
       "    .dataframe thead th {\n",
       "        text-align: right;\n",
       "    }\n",
       "</style>\n",
       "<table border=\"1\" class=\"dataframe\">\n",
       "  <thead>\n",
       "    <tr style=\"text-align: right;\">\n",
       "      <th></th>\n",
       "      <th>Suburb</th>\n",
       "      <th>Propertycount</th>\n",
       "    </tr>\n",
       "  </thead>\n",
       "  <tbody>\n",
       "    <tr>\n",
       "      <th>0</th>\n",
       "      <td>Abbotsford</td>\n",
       "      <td>[4019.0]</td>\n",
       "    </tr>\n",
       "    <tr>\n",
       "      <th>1</th>\n",
       "      <td>Aberfeldie</td>\n",
       "      <td>[1543.0]</td>\n",
       "    </tr>\n",
       "    <tr>\n",
       "      <th>2</th>\n",
       "      <td>Airport West</td>\n",
       "      <td>[3464.0]</td>\n",
       "    </tr>\n",
       "    <tr>\n",
       "      <th>3</th>\n",
       "      <td>Albanvale</td>\n",
       "      <td>[1899.0]</td>\n",
       "    </tr>\n",
       "    <tr>\n",
       "      <th>4</th>\n",
       "      <td>Albert Park</td>\n",
       "      <td>[3280.0]</td>\n",
       "    </tr>\n",
       "  </tbody>\n",
       "</table>\n",
       "</div>"
      ],
      "text/plain": [
       "         Suburb Propertycount\n",
       "0    Abbotsford      [4019.0]\n",
       "1    Aberfeldie      [1543.0]\n",
       "2  Airport West      [3464.0]\n",
       "3     Albanvale      [1899.0]\n",
       "4   Albert Park      [3280.0]"
      ]
     },
     "metadata": {
      "tags": []
     },
     "output_type": "display_data"
    },
    {
     "data": {
      "image/png": "[encoded data removed]",
      "text/plain": [
       "<Figure size 432x288 with 1 Axes>"
      ]
     },
     "metadata": {
      "tags": []
     },
     "output_type": "display_data"
    }
   ],
   "source": [
    "display(property_count_df)\n",
    "from palettable.colorbrewer.qualitative import Pastel1_7\n",
    "plt.pie(property_count_df[\"Propertycount\"], labels=property_count_df[\"Suburb\"], colors=Pastel1_7.hex_colors,autopct='%1.1f%%')\n",
    "p=plt.gcf()\n",
    "p.gca().add_artist(my_circle)\n",
    "plt.show()"
   ]
  },
  {
   "cell_type": "markdown",
   "metadata": {
    "id": "HNqpT252PT4o"
   },
   "source": [
    ">Here are the Top 5 Suburbs based on Property Count.As we can see Abbotsford has the highest number of properties accounting to 28.3% followed by Albert Park and Airport West accounting to 23% and 24% respectively.Albanvale and Aberfeldie account to 11% and 13% of gross sales."
   ]
  },
  {
   "cell_type": "markdown",
   "metadata": {
    "id": "ATzpq0laI_uv"
   },
   "source": [
    "**Q) What are the Total Sales in all Regions in Melbourne?**"
   ]
  },
  {
   "cell_type": "code",
   "execution_count": 42,
   "metadata": {
    "id": "_JB6I7GSHGG8"
   },
   "outputs": [],
   "source": [
    "region_df = housing_df[\"Regionname\"].value_counts().to_frame().reset_index().rename(columns={\"index\":\"RegionName\",\"Regionname\":\"Count\"})"
   ]
  },
  {
   "cell_type": "code",
   "execution_count": 43,
   "metadata": {
    "colab": {
     "base_uri": "https://localhost:8080/",
     "height": 633
    },
    "id": "e62E2ooaJaDr",
    "outputId": "2d5e33c7-eacc-4a08-f961-682c3d58a5d0"
   },
   "outputs": [
    {
     "data": {
      "text/html": [
       "<div>\n",
       "<style scoped>\n",
       "    .dataframe tbody tr th:only-of-type {\n",
       "        vertical-align: middle;\n",
       "    }\n",
       "\n",
       "    .dataframe tbody tr th {\n",
       "        vertical-align: top;\n",
       "    }\n",
       "\n",
       "    .dataframe thead th {\n",
       "        text-align: right;\n",
       "    }\n",
       "</style>\n",
       "<table border=\"1\" class=\"dataframe\">\n",
       "  <thead>\n",
       "    <tr style=\"text-align: right;\">\n",
       "      <th></th>\n",
       "      <th>RegionName</th>\n",
       "      <th>Count</th>\n",
       "    </tr>\n",
       "  </thead>\n",
       "  <tbody>\n",
       "    <tr>\n",
       "      <th>0</th>\n",
       "      <td>Southern Metropolitan</td>\n",
       "      <td>1856</td>\n",
       "    </tr>\n",
       "    <tr>\n",
       "      <th>1</th>\n",
       "      <td>Northern Metropolitan</td>\n",
       "      <td>1542</td>\n",
       "    </tr>\n",
       "    <tr>\n",
       "      <th>2</th>\n",
       "      <td>Western Metropolitan</td>\n",
       "      <td>1209</td>\n",
       "    </tr>\n",
       "    <tr>\n",
       "      <th>3</th>\n",
       "      <td>Eastern Metropolitan</td>\n",
       "      <td>634</td>\n",
       "    </tr>\n",
       "    <tr>\n",
       "      <th>4</th>\n",
       "      <td>South-Eastern Metropolitan</td>\n",
       "      <td>176</td>\n",
       "    </tr>\n",
       "    <tr>\n",
       "      <th>5</th>\n",
       "      <td>Eastern Victoria</td>\n",
       "      <td>25</td>\n",
       "    </tr>\n",
       "    <tr>\n",
       "      <th>6</th>\n",
       "      <td>Northern Victoria</td>\n",
       "      <td>18</td>\n",
       "    </tr>\n",
       "    <tr>\n",
       "      <th>7</th>\n",
       "      <td>Western Victoria</td>\n",
       "      <td>17</td>\n",
       "    </tr>\n",
       "  </tbody>\n",
       "</table>\n",
       "</div>"
      ],
      "text/plain": [
       "                   RegionName  Count\n",
       "0       Southern Metropolitan   1856\n",
       "1       Northern Metropolitan   1542\n",
       "2        Western Metropolitan   1209\n",
       "3        Eastern Metropolitan    634\n",
       "4  South-Eastern Metropolitan    176\n",
       "5            Eastern Victoria     25\n",
       "6           Northern Victoria     18\n",
       "7            Western Victoria     17"
      ]
     },
     "metadata": {
      "tags": []
     },
     "output_type": "display_data"
    },
    {
     "data": {
      "image/png": "[encoded data removed]",
      "text/plain": [
       "<Figure size 576x360 with 1 Axes>"
      ]
     },
     "metadata": {
      "needs_background": "light",
      "tags": []
     },
     "output_type": "display_data"
    }
   ],
   "source": [
    "display(region_df)\n",
    "plt.figure(figsize=(8,5))\n",
    "sns.swarmplot(x='Count',y='RegionName', data=region_df)\n",
    "plt.title(\"Sales By Region Name\")\n",
    "plt.xlabel(\"Count\")\n",
    "plt.ylabel(\"Region Names\")\n",
    "plt.show()"
   ]
  },
  {
   "cell_type": "markdown",
   "metadata": {
    "id": "JB_gXJuKNnzG"
   },
   "source": [
    ">Here are the sales number of all Regions in Melbourne.We can see that sales in Southern,Northern and Western Metropolitan are 4 digit numbers.These are followed by Eastern and South-Eastern with mediocre sales.Lastly sasles in Eastern ,Northern and Western Victoria are inconsiquential."
   ]
  },
  {
   "cell_type": "markdown",
   "metadata": {
    "id": "GOc7StgqWCMl"
   },
   "source": [
    "# **Inferences And Conclusions**\n",
    ">Housing markets experience substantial price volatility, short-term price change momentum, and mean reversion of prices over the long run.The growth of this sector is well complemented by the growth in the corporate environment and the demand for office space as well as urban and semi-urban accommodations. The construction industry ranks third among the 14 major sectors in terms of direct, indirect and induced effects in all sectors of the economy.The growing flow of investors in Australian real estate is encouraging increased transparency. Developers, in order to attract funding, have revamped their accounting and management systems to meet due diligence standards."
   ]
  },
  {
   "cell_type": "markdown",
   "metadata": {
    "id": "tQBCNllQXEfZ"
   },
   "source": [
    "# **Future Work**\n",
    "* Bitcoin Price Prediction \n",
    "* Analysis on Emerging Markets"
   ]
  },
  {
   "cell_type": "markdown",
   "metadata": {
    "id": "QABPSwjbXj1T"
   },
   "source": [
    "# **References**\n",
    "* https://www.sciencedirect.com/topics/economics-econometrics-and-finance/housing-market\n",
    "* https://www.kaggle.com/dansbecker/melbourne-housing-snapshot"
   ]
  },
  {
   "cell_type": "code",
   "execution_count": 45,
   "metadata": {
    "colab": {
     "base_uri": "https://localhost:8080/"
    },
    "id": "xgbABr3qZyP7",
    "outputId": "d8817393-8416-4411-caeb-c9ffcdb0c71f"
   },
   "outputs": [
    {
     "name": "stdout",
     "output_type": "stream",
     "text": [
      "[jovian] Detected Colab notebook...\u001b[0m\n",
      "[jovian] Please enter your API key ( from https://jovian.ai/ ):\u001b[0m\n",
      "API KEY: ··········\n",
      "[jovian] Uploading colab notebook to Jovian...\u001b[0m\n",
      "[jovian] Capturing environment..\u001b[0m\n",
      "[jovian] Committed successfully! https://jovian.ai/srikarar/housing-markets\u001b[0m\n",
      "[jovian] Submitting assignment..\u001b[0m\n",
      "[jovian] Verify your submission at https://jovian.ai/learn/data-analysis-with-python-zero-to-pandas/assignment/course-project\u001b[0m\n"
     ]
    }
   ],
   "source": [
    "jovian.utils.colab.set_colab_file_id('1Ozj0Gs-aVJyK4pRSvFYXve1fdkVXz3ol')\n",
    "jovian.submit(assignment=\"zero-to-pandas-project\",project=\"housing-markets\")"
   ]
  },
  {
   "cell_type": "code",
   "execution_count": null,
   "metadata": {
    "id": "hJQZyF8EZ4TE"
   },
   "outputs": [],
   "source": []
  }
 ],
 "metadata": {
  "colab": {
   "collapsed_sections": [],
   "name": "housing-market",
   "provenance": []
  }
 },
 "nbformat": 4,
 "nbformat_minor": 0
}